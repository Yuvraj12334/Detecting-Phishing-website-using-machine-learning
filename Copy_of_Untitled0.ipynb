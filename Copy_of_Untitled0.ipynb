{
  "nbformat": 4,
  "nbformat_minor": 0,
  "metadata": {
    "colab": {
      "provenance": []
    },
    "kernelspec": {
      "name": "python3",
      "display_name": "Python 3"
    },
    "language_info": {
      "name": "python"
    }
  },
  "cells": [
    {
      "cell_type": "markdown",
      "source": [
        "PHISHING PREDICTION\n"
      ],
      "metadata": {
        "id": "azv-Iq0HfO1f"
      }
    },
    {
      "cell_type": "code",
      "source": [
        "import pandas as pd\n",
        "import itertools\n",
        "from sklearn.metrics import classification_report,confusion_matrix, accuracy_score\n",
        "from sklearn.model_selection import train_test_split\n",
        "import pandas as pd\n",
        "import numpy as np\n",
        "import matplotlib.pyplot as plt\n",
        "import xgboost as xgb\n",
        "from lightgbm import LGBMClassifier\n",
        "import os\n",
        "import seaborn as sns\n",
        "from wordcloud import WordCloud"
      ],
      "metadata": {
        "id": "F_weKh1XfR8a"
      },
      "execution_count": null,
      "outputs": []
    },
    {
      "cell_type": "code",
      "source": [
        "df=pd.read_csv(\"/content/malicious_phish (1).csv\")\n",
        "print(df.shape)\n"
      ],
      "metadata": {
        "colab": {
          "base_uri": "https://localhost:8080/"
        },
        "id": "jh28ceVlgRA8",
        "outputId": "e73c5f35-35be-42c5-876c-de1159caf40e"
      },
      "execution_count": null,
      "outputs": [
        {
          "output_type": "stream",
          "name": "stdout",
          "text": [
            "(651191, 2)\n"
          ]
        }
      ]
    },
    {
      "cell_type": "code",
      "source": [
        "df.type.value_counts()"
      ],
      "metadata": {
        "colab": {
          "base_uri": "https://localhost:8080/"
        },
        "id": "367sRk_Eua03",
        "outputId": "2db7ba3b-f4c2-4cf2-d9a8-d1384b6b3f5b"
      },
      "execution_count": null,
      "outputs": [
        {
          "output_type": "execute_result",
          "data": {
            "text/plain": [
              "benign        428103\n",
              "defacement     96457\n",
              "phishing       94111\n",
              "malware        32520\n",
              "Name: type, dtype: int64"
            ]
          },
          "metadata": {},
          "execution_count": 4
        }
      ]
    },
    {
      "cell_type": "code",
      "source": [
        "df_phish=df[df.type==\"phishing\"]\n",
        "df_malware=df[df.type==\"malware\"]\n",
        "df_deface=df[df.type==\"defacement\"]\n",
        "df_benign=df[df.type==\"benign\"]"
      ],
      "metadata": {
        "id": "l6r-XMK_u2jF"
      },
      "execution_count": null,
      "outputs": []
    },
    {
      "cell_type": "code",
      "source": [
        "df_phish"
      ],
      "metadata": {
        "colab": {
          "base_uri": "https://localhost:8080/",
          "height": 423
        },
        "id": "TFyzOsUA0H95",
        "outputId": "8d18450a-92ab-4b37-bc3b-1a6cb29991bf"
      },
      "execution_count": null,
      "outputs": [
        {
          "output_type": "execute_result",
          "data": {
            "text/plain": [
              "                                                      url      type\n",
              "0                                        br-icloud.com.br  phishing\n",
              "21             signin.eby.de.zukruygxctzmmqi.civpro.co.za  phishing\n",
              "28      http://www.marketingbyinternet.com/mo/e56508df...  phishing\n",
              "40      https://docs.google.com/spreadsheet/viewform?f...  phishing\n",
              "72                                   retajconsultancy.com  phishing\n",
              "...                                                   ...       ...\n",
              "651186            xbox360.ign.com/objects/850/850402.html  phishing\n",
              "651187       games.teamxbox.com/xbox-360/1860/Dead-Space/  phishing\n",
              "651188         www.gamespot.com/xbox360/action/deadspace/  phishing\n",
              "651189      en.wikipedia.org/wiki/Dead_Space_(video_game)  phishing\n",
              "651190          www.angelfire.com/goth/devilmaycrytonite/  phishing\n",
              "\n",
              "[94111 rows x 2 columns]"
            ],
            "text/html": [
              "\n",
              "  <div id=\"df-b38687b2-5041-407c-9290-f751d8e69492\">\n",
              "    <div class=\"colab-df-container\">\n",
              "      <div>\n",
              "<style scoped>\n",
              "    .dataframe tbody tr th:only-of-type {\n",
              "        vertical-align: middle;\n",
              "    }\n",
              "\n",
              "    .dataframe tbody tr th {\n",
              "        vertical-align: top;\n",
              "    }\n",
              "\n",
              "    .dataframe thead th {\n",
              "        text-align: right;\n",
              "    }\n",
              "</style>\n",
              "<table border=\"1\" class=\"dataframe\">\n",
              "  <thead>\n",
              "    <tr style=\"text-align: right;\">\n",
              "      <th></th>\n",
              "      <th>url</th>\n",
              "      <th>type</th>\n",
              "    </tr>\n",
              "  </thead>\n",
              "  <tbody>\n",
              "    <tr>\n",
              "      <th>0</th>\n",
              "      <td>br-icloud.com.br</td>\n",
              "      <td>phishing</td>\n",
              "    </tr>\n",
              "    <tr>\n",
              "      <th>21</th>\n",
              "      <td>signin.eby.de.zukruygxctzmmqi.civpro.co.za</td>\n",
              "      <td>phishing</td>\n",
              "    </tr>\n",
              "    <tr>\n",
              "      <th>28</th>\n",
              "      <td>http://www.marketingbyinternet.com/mo/e56508df...</td>\n",
              "      <td>phishing</td>\n",
              "    </tr>\n",
              "    <tr>\n",
              "      <th>40</th>\n",
              "      <td>https://docs.google.com/spreadsheet/viewform?f...</td>\n",
              "      <td>phishing</td>\n",
              "    </tr>\n",
              "    <tr>\n",
              "      <th>72</th>\n",
              "      <td>retajconsultancy.com</td>\n",
              "      <td>phishing</td>\n",
              "    </tr>\n",
              "    <tr>\n",
              "      <th>...</th>\n",
              "      <td>...</td>\n",
              "      <td>...</td>\n",
              "    </tr>\n",
              "    <tr>\n",
              "      <th>651186</th>\n",
              "      <td>xbox360.ign.com/objects/850/850402.html</td>\n",
              "      <td>phishing</td>\n",
              "    </tr>\n",
              "    <tr>\n",
              "      <th>651187</th>\n",
              "      <td>games.teamxbox.com/xbox-360/1860/Dead-Space/</td>\n",
              "      <td>phishing</td>\n",
              "    </tr>\n",
              "    <tr>\n",
              "      <th>651188</th>\n",
              "      <td>www.gamespot.com/xbox360/action/deadspace/</td>\n",
              "      <td>phishing</td>\n",
              "    </tr>\n",
              "    <tr>\n",
              "      <th>651189</th>\n",
              "      <td>en.wikipedia.org/wiki/Dead_Space_(video_game)</td>\n",
              "      <td>phishing</td>\n",
              "    </tr>\n",
              "    <tr>\n",
              "      <th>651190</th>\n",
              "      <td>www.angelfire.com/goth/devilmaycrytonite/</td>\n",
              "      <td>phishing</td>\n",
              "    </tr>\n",
              "  </tbody>\n",
              "</table>\n",
              "<p>94111 rows × 2 columns</p>\n",
              "</div>\n",
              "      <button class=\"colab-df-convert\" onclick=\"convertToInteractive('df-b38687b2-5041-407c-9290-f751d8e69492')\"\n",
              "              title=\"Convert this dataframe to an interactive table.\"\n",
              "              style=\"display:none;\">\n",
              "        \n",
              "  <svg xmlns=\"http://www.w3.org/2000/svg\" height=\"24px\"viewBox=\"0 0 24 24\"\n",
              "       width=\"24px\">\n",
              "    <path d=\"M0 0h24v24H0V0z\" fill=\"none\"/>\n",
              "    <path d=\"M18.56 5.44l.94 2.06.94-2.06 2.06-.94-2.06-.94-.94-2.06-.94 2.06-2.06.94zm-11 1L8.5 8.5l.94-2.06 2.06-.94-2.06-.94L8.5 2.5l-.94 2.06-2.06.94zm10 10l.94 2.06.94-2.06 2.06-.94-2.06-.94-.94-2.06-.94 2.06-2.06.94z\"/><path d=\"M17.41 7.96l-1.37-1.37c-.4-.4-.92-.59-1.43-.59-.52 0-1.04.2-1.43.59L10.3 9.45l-7.72 7.72c-.78.78-.78 2.05 0 2.83L4 21.41c.39.39.9.59 1.41.59.51 0 1.02-.2 1.41-.59l7.78-7.78 2.81-2.81c.8-.78.8-2.07 0-2.86zM5.41 20L4 18.59l7.72-7.72 1.47 1.35L5.41 20z\"/>\n",
              "  </svg>\n",
              "      </button>\n",
              "      \n",
              "  <style>\n",
              "    .colab-df-container {\n",
              "      display:flex;\n",
              "      flex-wrap:wrap;\n",
              "      gap: 12px;\n",
              "    }\n",
              "\n",
              "    .colab-df-convert {\n",
              "      background-color: #E8F0FE;\n",
              "      border: none;\n",
              "      border-radius: 50%;\n",
              "      cursor: pointer;\n",
              "      display: none;\n",
              "      fill: #1967D2;\n",
              "      height: 32px;\n",
              "      padding: 0 0 0 0;\n",
              "      width: 32px;\n",
              "    }\n",
              "\n",
              "    .colab-df-convert:hover {\n",
              "      background-color: #E2EBFA;\n",
              "      box-shadow: 0px 1px 2px rgba(60, 64, 67, 0.3), 0px 1px 3px 1px rgba(60, 64, 67, 0.15);\n",
              "      fill: #174EA6;\n",
              "    }\n",
              "\n",
              "    [theme=dark] .colab-df-convert {\n",
              "      background-color: #3B4455;\n",
              "      fill: #D2E3FC;\n",
              "    }\n",
              "\n",
              "    [theme=dark] .colab-df-convert:hover {\n",
              "      background-color: #434B5C;\n",
              "      box-shadow: 0px 1px 3px 1px rgba(0, 0, 0, 0.15);\n",
              "      filter: drop-shadow(0px 1px 2px rgba(0, 0, 0, 0.3));\n",
              "      fill: #FFFFFF;\n",
              "    }\n",
              "  </style>\n",
              "\n",
              "      <script>\n",
              "        const buttonEl =\n",
              "          document.querySelector('#df-b38687b2-5041-407c-9290-f751d8e69492 button.colab-df-convert');\n",
              "        buttonEl.style.display =\n",
              "          google.colab.kernel.accessAllowed ? 'block' : 'none';\n",
              "\n",
              "        async function convertToInteractive(key) {\n",
              "          const element = document.querySelector('#df-b38687b2-5041-407c-9290-f751d8e69492');\n",
              "          const dataTable =\n",
              "            await google.colab.kernel.invokeFunction('convertToInteractive',\n",
              "                                                     [key], {});\n",
              "          if (!dataTable) return;\n",
              "\n",
              "          const docLinkHtml = 'Like what you see? Visit the ' +\n",
              "            '<a target=\"_blank\" href=https://colab.research.google.com/notebooks/data_table.ipynb>data table notebook</a>'\n",
              "            + ' to learn more about interactive tables.';\n",
              "          element.innerHTML = '';\n",
              "          dataTable['output_type'] = 'display_data';\n",
              "          await google.colab.output.renderOutput(dataTable, element);\n",
              "          const docLink = document.createElement('div');\n",
              "          docLink.innerHTML = docLinkHtml;\n",
              "          element.appendChild(docLink);\n",
              "        }\n",
              "      </script>\n",
              "    </div>\n",
              "  </div>\n",
              "  "
            ]
          },
          "metadata": {},
          "execution_count": 6
        }
      ]
    },
    {
      "cell_type": "code",
      "source": [
        "df.head(18)"
      ],
      "metadata": {
        "colab": {
          "base_uri": "https://localhost:8080/",
          "height": 613
        },
        "id": "szH7gpGwjFn9",
        "outputId": "91cd953e-a86e-4aee-cd01-cb33e07bc939"
      },
      "execution_count": null,
      "outputs": [
        {
          "output_type": "execute_result",
          "data": {
            "text/plain": [
              "                                                  url        type\n",
              "0                                    br-icloud.com.br    phishing\n",
              "1                 mp3raid.com/music/krizz_kaliko.html      benign\n",
              "2                     bopsecrets.org/rexroth/cr/1.htm      benign\n",
              "3   http://www.garage-pirenne.be/index.php?option=...  defacement\n",
              "4   http://adventure-nicaragua.net/index.php?optio...  defacement\n",
              "5   http://buzzfil.net/m/show-art/ils-etaient-loin...      benign\n",
              "6       espn.go.com/nba/player/_/id/3457/brandon-rush      benign\n",
              "7      yourbittorrent.com/?q=anthony-hamilton-soulife      benign\n",
              "8        http://www.pashminaonline.com/pure-pashminas  defacement\n",
              "9       allmusic.com/album/crazy-from-the-heat-r16990      benign\n",
              "10  corporationwiki.com/Ohio/Columbus/frank-s-bens...      benign\n",
              "11  http://www.ikenmijnkunst.nl/index.php/expositi...  defacement\n",
              "12                     myspace.com/video/vid/30602581      benign\n",
              "13  http://www.lebensmittel-ueberwachung.de/index....  defacement\n",
              "14  http://www.szabadmunkaero.hu/cimoldal.html?sta...  defacement\n",
              "15   http://larcadelcarnevale.com/catalogo/palloncini  defacement\n",
              "16       quickfacts.census.gov/qfd/maps/iowa_map.html      benign\n",
              "17  nugget.ca/ArticleDisplay.aspx?archive=true&e=1...      benign"
            ],
            "text/html": [
              "\n",
              "  <div id=\"df-f875a766-2c3e-42f3-81e8-36507f5cd0f2\">\n",
              "    <div class=\"colab-df-container\">\n",
              "      <div>\n",
              "<style scoped>\n",
              "    .dataframe tbody tr th:only-of-type {\n",
              "        vertical-align: middle;\n",
              "    }\n",
              "\n",
              "    .dataframe tbody tr th {\n",
              "        vertical-align: top;\n",
              "    }\n",
              "\n",
              "    .dataframe thead th {\n",
              "        text-align: right;\n",
              "    }\n",
              "</style>\n",
              "<table border=\"1\" class=\"dataframe\">\n",
              "  <thead>\n",
              "    <tr style=\"text-align: right;\">\n",
              "      <th></th>\n",
              "      <th>url</th>\n",
              "      <th>type</th>\n",
              "    </tr>\n",
              "  </thead>\n",
              "  <tbody>\n",
              "    <tr>\n",
              "      <th>0</th>\n",
              "      <td>br-icloud.com.br</td>\n",
              "      <td>phishing</td>\n",
              "    </tr>\n",
              "    <tr>\n",
              "      <th>1</th>\n",
              "      <td>mp3raid.com/music/krizz_kaliko.html</td>\n",
              "      <td>benign</td>\n",
              "    </tr>\n",
              "    <tr>\n",
              "      <th>2</th>\n",
              "      <td>bopsecrets.org/rexroth/cr/1.htm</td>\n",
              "      <td>benign</td>\n",
              "    </tr>\n",
              "    <tr>\n",
              "      <th>3</th>\n",
              "      <td>http://www.garage-pirenne.be/index.php?option=...</td>\n",
              "      <td>defacement</td>\n",
              "    </tr>\n",
              "    <tr>\n",
              "      <th>4</th>\n",
              "      <td>http://adventure-nicaragua.net/index.php?optio...</td>\n",
              "      <td>defacement</td>\n",
              "    </tr>\n",
              "    <tr>\n",
              "      <th>5</th>\n",
              "      <td>http://buzzfil.net/m/show-art/ils-etaient-loin...</td>\n",
              "      <td>benign</td>\n",
              "    </tr>\n",
              "    <tr>\n",
              "      <th>6</th>\n",
              "      <td>espn.go.com/nba/player/_/id/3457/brandon-rush</td>\n",
              "      <td>benign</td>\n",
              "    </tr>\n",
              "    <tr>\n",
              "      <th>7</th>\n",
              "      <td>yourbittorrent.com/?q=anthony-hamilton-soulife</td>\n",
              "      <td>benign</td>\n",
              "    </tr>\n",
              "    <tr>\n",
              "      <th>8</th>\n",
              "      <td>http://www.pashminaonline.com/pure-pashminas</td>\n",
              "      <td>defacement</td>\n",
              "    </tr>\n",
              "    <tr>\n",
              "      <th>9</th>\n",
              "      <td>allmusic.com/album/crazy-from-the-heat-r16990</td>\n",
              "      <td>benign</td>\n",
              "    </tr>\n",
              "    <tr>\n",
              "      <th>10</th>\n",
              "      <td>corporationwiki.com/Ohio/Columbus/frank-s-bens...</td>\n",
              "      <td>benign</td>\n",
              "    </tr>\n",
              "    <tr>\n",
              "      <th>11</th>\n",
              "      <td>http://www.ikenmijnkunst.nl/index.php/expositi...</td>\n",
              "      <td>defacement</td>\n",
              "    </tr>\n",
              "    <tr>\n",
              "      <th>12</th>\n",
              "      <td>myspace.com/video/vid/30602581</td>\n",
              "      <td>benign</td>\n",
              "    </tr>\n",
              "    <tr>\n",
              "      <th>13</th>\n",
              "      <td>http://www.lebensmittel-ueberwachung.de/index....</td>\n",
              "      <td>defacement</td>\n",
              "    </tr>\n",
              "    <tr>\n",
              "      <th>14</th>\n",
              "      <td>http://www.szabadmunkaero.hu/cimoldal.html?sta...</td>\n",
              "      <td>defacement</td>\n",
              "    </tr>\n",
              "    <tr>\n",
              "      <th>15</th>\n",
              "      <td>http://larcadelcarnevale.com/catalogo/palloncini</td>\n",
              "      <td>defacement</td>\n",
              "    </tr>\n",
              "    <tr>\n",
              "      <th>16</th>\n",
              "      <td>quickfacts.census.gov/qfd/maps/iowa_map.html</td>\n",
              "      <td>benign</td>\n",
              "    </tr>\n",
              "    <tr>\n",
              "      <th>17</th>\n",
              "      <td>nugget.ca/ArticleDisplay.aspx?archive=true&amp;e=1...</td>\n",
              "      <td>benign</td>\n",
              "    </tr>\n",
              "  </tbody>\n",
              "</table>\n",
              "</div>\n",
              "      <button class=\"colab-df-convert\" onclick=\"convertToInteractive('df-f875a766-2c3e-42f3-81e8-36507f5cd0f2')\"\n",
              "              title=\"Convert this dataframe to an interactive table.\"\n",
              "              style=\"display:none;\">\n",
              "        \n",
              "  <svg xmlns=\"http://www.w3.org/2000/svg\" height=\"24px\"viewBox=\"0 0 24 24\"\n",
              "       width=\"24px\">\n",
              "    <path d=\"M0 0h24v24H0V0z\" fill=\"none\"/>\n",
              "    <path d=\"M18.56 5.44l.94 2.06.94-2.06 2.06-.94-2.06-.94-.94-2.06-.94 2.06-2.06.94zm-11 1L8.5 8.5l.94-2.06 2.06-.94-2.06-.94L8.5 2.5l-.94 2.06-2.06.94zm10 10l.94 2.06.94-2.06 2.06-.94-2.06-.94-.94-2.06-.94 2.06-2.06.94z\"/><path d=\"M17.41 7.96l-1.37-1.37c-.4-.4-.92-.59-1.43-.59-.52 0-1.04.2-1.43.59L10.3 9.45l-7.72 7.72c-.78.78-.78 2.05 0 2.83L4 21.41c.39.39.9.59 1.41.59.51 0 1.02-.2 1.41-.59l7.78-7.78 2.81-2.81c.8-.78.8-2.07 0-2.86zM5.41 20L4 18.59l7.72-7.72 1.47 1.35L5.41 20z\"/>\n",
              "  </svg>\n",
              "      </button>\n",
              "      \n",
              "  <style>\n",
              "    .colab-df-container {\n",
              "      display:flex;\n",
              "      flex-wrap:wrap;\n",
              "      gap: 12px;\n",
              "    }\n",
              "\n",
              "    .colab-df-convert {\n",
              "      background-color: #E8F0FE;\n",
              "      border: none;\n",
              "      border-radius: 50%;\n",
              "      cursor: pointer;\n",
              "      display: none;\n",
              "      fill: #1967D2;\n",
              "      height: 32px;\n",
              "      padding: 0 0 0 0;\n",
              "      width: 32px;\n",
              "    }\n",
              "\n",
              "    .colab-df-convert:hover {\n",
              "      background-color: #E2EBFA;\n",
              "      box-shadow: 0px 1px 2px rgba(60, 64, 67, 0.3), 0px 1px 3px 1px rgba(60, 64, 67, 0.15);\n",
              "      fill: #174EA6;\n",
              "    }\n",
              "\n",
              "    [theme=dark] .colab-df-convert {\n",
              "      background-color: #3B4455;\n",
              "      fill: #D2E3FC;\n",
              "    }\n",
              "\n",
              "    [theme=dark] .colab-df-convert:hover {\n",
              "      background-color: #434B5C;\n",
              "      box-shadow: 0px 1px 3px 1px rgba(0, 0, 0, 0.15);\n",
              "      filter: drop-shadow(0px 1px 2px rgba(0, 0, 0, 0.3));\n",
              "      fill: #FFFFFF;\n",
              "    }\n",
              "  </style>\n",
              "\n",
              "      <script>\n",
              "        const buttonEl =\n",
              "          document.querySelector('#df-f875a766-2c3e-42f3-81e8-36507f5cd0f2 button.colab-df-convert');\n",
              "        buttonEl.style.display =\n",
              "          google.colab.kernel.accessAllowed ? 'block' : 'none';\n",
              "\n",
              "        async function convertToInteractive(key) {\n",
              "          const element = document.querySelector('#df-f875a766-2c3e-42f3-81e8-36507f5cd0f2');\n",
              "          const dataTable =\n",
              "            await google.colab.kernel.invokeFunction('convertToInteractive',\n",
              "                                                     [key], {});\n",
              "          if (!dataTable) return;\n",
              "\n",
              "          const docLinkHtml = 'Like what you see? Visit the ' +\n",
              "            '<a target=\"_blank\" href=https://colab.research.google.com/notebooks/data_table.ipynb>data table notebook</a>'\n",
              "            + ' to learn more about interactive tables.';\n",
              "          element.innerHTML = '';\n",
              "          dataTable['output_type'] = 'display_data';\n",
              "          await google.colab.output.renderOutput(dataTable, element);\n",
              "          const docLink = document.createElement('div');\n",
              "          docLink.innerHTML = docLinkHtml;\n",
              "          element.appendChild(docLink);\n",
              "        }\n",
              "      </script>\n",
              "    </div>\n",
              "  </div>\n",
              "  "
            ]
          },
          "metadata": {},
          "execution_count": 7
        }
      ]
    },
    {
      "cell_type": "code",
      "source": [
        "phish_url=\"\".join(i for i in df_phish)\n",
        "wordcloud=WordCloud(width=1000,height=600,colormap='Paired').generate(phish_url)\n",
        "plt.figure(figsize=(4,8),facecolor='k')\n",
        "plt.imshow(wordcloud,interpolation='bilinear')\n",
        "plt.axis('off')\n",
        "plt.tight_layout(pad=0)\n",
        "plt.show()\n",
        "                  "
      ],
      "metadata": {
        "colab": {
          "base_uri": "https://localhost:8080/",
          "height": 276
        },
        "id": "XnUuffhXwNSy",
        "outputId": "94d677d2-8581-4f4d-9aca-6778c7e56119"
      },
      "execution_count": null,
      "outputs": [
        {
          "output_type": "display_data",
          "data": {
            "text/plain": [
              "<Figure size 400x800 with 1 Axes>"
            ],
            "image/png": "[encoded data removed]"
          },
          "metadata": {}
        }
      ]
    },
    {
      "cell_type": "code",
      "source": [
        "pip install tid"
      ],
      "metadata": {
        "colab": {
          "base_uri": "https://localhost:8080/"
        },
        "id": "IwzWe5dJoQMw",
        "outputId": "3addc559-acc0-41d9-9de4-51f972356f14"
      },
      "execution_count": null,
      "outputs": [
        {
          "output_type": "stream",
          "name": "stdout",
          "text": [
            "Looking in indexes: https://pypi.org/simple, https://us-python.pkg.dev/colab-wheels/public/simple/\n",
            "Collecting tid\n",
            "  Downloading tid-0.2.0.tar.gz (2.2 kB)\n",
            "  Installing build dependencies ... \u001b[?25l\u001b[?25hdone\n",
            "  Getting requirements to build wheel ... \u001b[?25l\u001b[?25hdone\n",
            "  Preparing metadata (pyproject.toml) ... \u001b[?25l\u001b[?25hdone\n",
            "Building wheels for collected packages: tid\n",
            "  Building wheel for tid (pyproject.toml) ... \u001b[?25l\u001b[?25hdone\n",
            "  Created wheel for tid: filename=tid-0.2.0-cp310-cp310-manylinux_2_31_x86_64.whl size=22945 sha256=8c031c570f2c9ee9f402b3ec637ced3e8ea1a3fbe562731ccf948c1b44fdf339\n",
            "  Stored in directory: /root/.cache/pip/wheels/ee/a0/c6/caf21af46a757b419909b6c64f2f990511d7746b2aeda6b820\n",
            "Successfully built tid\n",
            "Installing collected packages: tid\n",
            "Successfully installed tid-0.2.0\n"
          ]
        }
      ]
    },
    {
      "cell_type": "code",
      "source": [
        "pip install tld"
      ],
      "metadata": {
        "colab": {
          "base_uri": "https://localhost:8080/"
        },
        "id": "AERJCNIrpTMm",
        "outputId": "4e6746a6-7422-4ed7-da90-b461462ba95f"
      },
      "execution_count": null,
      "outputs": [
        {
          "output_type": "stream",
          "name": "stdout",
          "text": [
            "Looking in indexes: https://pypi.org/simple, https://us-python.pkg.dev/colab-wheels/public/simple/\n",
            "Collecting tld\n",
            "  Downloading tld-0.13-py2.py3-none-any.whl (263 kB)\n",
            "\u001b[2K     \u001b[90m━━━━━━━━━━━━━━━━━━━━━━━━━━━━━━━━━━━━━━\u001b[0m \u001b[32m263.8/263.8 kB\u001b[0m \u001b[31m10.5 MB/s\u001b[0m eta \u001b[36m0:00:00\u001b[0m\n",
            "\u001b[?25hInstalling collected packages: tld\n",
            "Successfully installed tld-0.13\n"
          ]
        }
      ]
    },
    {
      "cell_type": "code",
      "source": [],
      "metadata": {
        "id": "hJ6Pp-sIt7Md"
      },
      "execution_count": null,
      "outputs": []
    },
    {
      "cell_type": "code",
      "source": [
        "import re\n",
        "#Use of IP or not in domain\n",
        "def having_ip_address(url):\n",
        "    match = re.search(\n",
        "        '(([01]?\\\\d\\\\d?|2[0-4]\\\\d|25[0-5])\\\\.([01]?\\\\d\\\\d?|2[0-4]\\\\d|25[0-5])\\\\.([01]?\\\\d\\\\d?|2[0-4]\\\\d|25[0-5])\\\\.'\n",
        "        '([01]?\\\\d\\\\d?|2[0-4]\\\\d|25[0-5])\\\\/)|'  # IPv4\n",
        "        '((0x[0-9a-fA-F]{1,2})\\\\.(0x[0-9a-fA-F]{1,2})\\\\.(0x[0-9a-fA-F]{1,2})\\\\.(0x[0-9a-fA-F]{1,2})\\\\/)' # IPv4 in hexadecimal\n",
        "        '(?:[a-fA-F0-9]{1,4}:){7}[a-fA-F0-9]{1,4}', url)  # Ipv6\n",
        "    if match:\n",
        "        # print match.group()\n",
        "        return 1\n",
        "    else:\n",
        "        # print 'No matching pattern found'\n",
        "        return 0\n",
        "df['use_of_ip'] = df['url'].apply(lambda i: having_ip_address(i))\n",
        "\n",
        "from urllib.parse import urlparse\n",
        "\n",
        "def abnormal_url(url):\n",
        "    hostname = urlparse(url).hostname\n",
        "    hostname = str(hostname)\n",
        "    match = re.search(hostname, url)\n",
        "    if match:\n",
        "        # print match.group()\n",
        "        return 1\n",
        "    else:\n",
        "        # print 'No matching pattern found'\n",
        "        return 0\n",
        "\n",
        "\n",
        "df['abnormal_url'] = df['url'].apply(lambda i: abnormal_url(i))\n",
        "\n",
        "#pip install googlesearch-python\n",
        "\n",
        "from googlesearch import search\n",
        "\n",
        "def google_index(url):\n",
        "    site = search(url, 5)\n",
        "    return 1 if site else 0\n",
        "df['google_index'] = df['url'].apply(lambda i: google_index(i))\n",
        "\n",
        "def count_dot(url):\n",
        "    count_dot = url.count('.')\n",
        "    return count_dot\n",
        "\n",
        "df['count.'] = df['url'].apply(lambda i: count_dot(i))\n",
        "\n",
        "def count_www(url):\n",
        "    url.count('www')\n",
        "    return url.count('www')\n",
        "\n",
        "df['count-www'] = df['url'].apply(lambda i: count_www(i))\n",
        "\n",
        "def count_atrate(url):\n",
        "     \n",
        "    return url.count('@')\n",
        "\n",
        "df['count@'] = df['url'].apply(lambda i: count_atrate(i))\n",
        "\n",
        "\n",
        "def no_of_dir(url):\n",
        "    urldir = urlparse(url).path\n",
        "    return urldir.count('/')\n",
        "\n",
        "df['count_dir'] = df['url'].apply(lambda i: no_of_dir(i))\n",
        "\n",
        "def no_of_embed(url):\n",
        "    urldir = urlparse(url).path\n",
        "    return urldir.count('//')\n",
        "\n",
        "df['count_embed_domian'] = df['url'].apply(lambda i: no_of_embed(i))\n",
        "\n",
        "\n",
        "def shortening_service(url):\n",
        "    match = re.search('bit\\.ly|goo\\.gl|shorte\\.st|go2l\\.ink|x\\.co|ow\\.ly|t\\.co|tinyurl|tr\\.im|is\\.gd|cli\\.gs|'\n",
        "                      'yfrog\\.com|migre\\.me|ff\\.im|tiny\\.cc|url4\\.eu|twit\\.ac|su\\.pr|twurl\\.nl|snipurl\\.com|'\n",
        "                      'short\\.to|BudURL\\.com|ping\\.fm|post\\.ly|Just\\.as|bkite\\.com|snipr\\.com|fic\\.kr|loopt\\.us|'\n",
        "                      'doiop\\.com|short\\.ie|kl\\.am|wp\\.me|rubyurl\\.com|om\\.ly|to\\.ly|bit\\.do|t\\.co|lnkd\\.in|'\n",
        "                      'db\\.tt|qr\\.ae|adf\\.ly|goo\\.gl|bitly\\.com|cur\\.lv|tinyurl\\.com|ow\\.ly|bit\\.ly|ity\\.im|'\n",
        "                      'q\\.gs|is\\.gd|po\\.st|bc\\.vc|twitthis\\.com|u\\.to|j\\.mp|buzurl\\.com|cutt\\.us|u\\.bb|yourls\\.org|'\n",
        "                      'x\\.co|prettylinkpro\\.com|scrnch\\.me|filoops\\.info|vzturl\\.com|qr\\.net|1url\\.com|tweez\\.me|v\\.gd|'\n",
        "                      'tr\\.im|link\\.zip\\.net',\n",
        "                      url)\n",
        "    if match:\n",
        "        return 1\n",
        "    else:\n",
        "        return 0\n",
        "    \n",
        "df['short_url'] = df['url'].apply(lambda i: shortening_service(i))\n",
        "\n",
        "def count_https(url):\n",
        "    return url.count('https')\n",
        "\n",
        "df['count-https'] = df['url'].apply(lambda i : count_https(i))\n",
        "\n",
        "def count_http(url):\n",
        "    return url.count('http')\n",
        "\n",
        "df['count-http'] = df['url'].apply(lambda i : count_http(i))\n",
        "\n",
        "def count_per(url):\n",
        "    return url.count('%')\n",
        "\n",
        "df['count%'] = df['url'].apply(lambda i : count_per(i))\n",
        "\n",
        "def count_ques(url):\n",
        "    return url.count('?')\n",
        "\n",
        "df['count?'] = df['url'].apply(lambda i: count_ques(i))\n",
        "\n",
        "def count_hyphen(url):\n",
        "    return url.count('-')\n",
        "\n",
        "df['count-'] = df['url'].apply(lambda i: count_hyphen(i))\n",
        "\n",
        "def count_equal(url):\n",
        "    return url.count('=')\n",
        "\n",
        "df['count='] = df['url'].apply(lambda i: count_equal(i))\n",
        "\n",
        "def url_length(url):\n",
        "    return len(str(url))\n",
        "\n",
        "\n",
        "#Length of URL\n",
        "df['url_length'] = df['url'].apply(lambda i: url_length(i))\n",
        "#Hostname Length\n",
        "\n",
        "def hostname_length(url):\n",
        "    return len(urlparse(url).netloc)\n",
        "\n",
        "df['hostname_length'] = df['url'].apply(lambda i: hostname_length(i))\n",
        "\n",
        "df.head()\n",
        "\n",
        "def suspicious_words(url):\n",
        "    match = re.search('PayPal|login|signin|bank|account|update|free|lucky|service|bonus|ebayisapi|webscr',\n",
        "                      url)\n",
        "    if match:\n",
        "        return 1\n",
        "    else:\n",
        "        return 0\n",
        "df['sus_url'] = df['url'].apply(lambda i: suspicious_words(i))\n",
        "\n",
        "\n",
        "def digit_count(url):\n",
        "    digits = 0\n",
        "    for i in url:\n",
        "        if i.isnumeric():\n",
        "            digits = digits + 1\n",
        "    return digits\n",
        "\n",
        "\n",
        "df['count-digits']= df['url'].apply(lambda i: digit_count(i))\n",
        "\n",
        "\n",
        "def letter_count(url):\n",
        "    letters = 0\n",
        "    for i in url:\n",
        "        if i.isalpha():\n",
        "            letters = letters + 1\n",
        "    return letters\n",
        "\n",
        "df['count-letters']= df['url'].apply(lambda i: letter_count(i))\n",
        "\n",
        "# pip install tld\n",
        "\n",
        "from urllib.parse import urlparse\n",
        "from tld import get_tld\n",
        "import os.path\n",
        "\n",
        "#First Directory Length\n",
        "def fd_length(url):\n",
        "    urlpath= urlparse(url).path\n",
        "    try:\n",
        "        return len(urlpath.split('/')[1])\n",
        "    except:\n",
        "        return 0\n",
        "\n",
        "df['fd_length'] = df['url'].apply(lambda i: fd_length(i))\n",
        "\n",
        "#Length of Top Level Domain\n",
        "df['tld'] = df['url'].apply(lambda i: get_tld(i,fail_silently=True))\n",
        "\n",
        "\n",
        "def tld_length(tld):\n",
        "    try:\n",
        "        return len(tld)\n",
        "    except:\n",
        "        return -1\n",
        "\n",
        "df['tld_length'] = df['tld'].apply(lambda i: tld_length(i))"
      ],
      "metadata": {
        "id": "V7FWQDMdjKtF"
      },
      "execution_count": null,
      "outputs": []
    },
    {
      "cell_type": "code",
      "source": [
        "df = df.drop(['url', 'google_index','tld'], axis='columns') "
      ],
      "metadata": {
        "id": "ZKuKQ4-Zr_m9"
      },
      "execution_count": null,
      "outputs": []
    },
    {
      "cell_type": "code",
      "source": [
        "from sklearn.preprocessing import LabelEncoder\n",
        "\n",
        "lb_make = LabelEncoder()\n",
        "df[\"type_code\"] = lb_make.fit_transform(df[\"type\"])"
      ],
      "metadata": {
        "id": "Mx0Yo08Zqpry"
      },
      "execution_count": null,
      "outputs": []
    },
    {
      "cell_type": "code",
      "source": [
        "#Predictor Variables\n",
        "# filtering out google_index as it has only 1 value\n",
        "X = df[['use_of_ip','abnormal_url', 'count.', 'count-www', 'count@',\n",
        "       'count_dir', 'count_embed_domian', 'short_url', 'count-https',\n",
        "       'count-http', 'count%', 'count?', 'count-', 'count=', 'url_length',\n",
        "       'hostname_length', 'sus_url', 'fd_length', 'tld_length', 'count-digits',\n",
        "       'count-letters']]\n",
        "\n",
        "#Target Variable\n",
        "y = df['type_code']"
      ],
      "metadata": {
        "id": "qppvAMNFquYb"
      },
      "execution_count": null,
      "outputs": []
    },
    {
      "cell_type": "code",
      "source": [
        "df.columns"
      ],
      "metadata": {
        "colab": {
          "base_uri": "https://localhost:8080/"
        },
        "id": "HZinEfp3tp6P",
        "outputId": "1d469f66-0c1b-43d8-d566-73591775837b"
      },
      "execution_count": null,
      "outputs": [
        {
          "output_type": "execute_result",
          "data": {
            "text/plain": [
              "Index(['type', 'use_of_ip', 'abnormal_url', 'count.', 'count-www', 'count@',\n",
              "       'count_dir', 'count_embed_domian', 'short_url', 'count-https',\n",
              "       'count-http', 'count%', 'count?', 'count-', 'count=', 'url_length',\n",
              "       'hostname_length', 'sus_url', 'count-digits', 'count-letters',\n",
              "       'fd_length', 'tld_length', 'type_code'],\n",
              "      dtype='object')"
            ]
          },
          "metadata": {},
          "execution_count": 15
        }
      ]
    },
    {
      "cell_type": "code",
      "source": [
        "from googlesearch import search"
      ],
      "metadata": {
        "id": "PnR1Sd0O0j6f"
      },
      "execution_count": null,
      "outputs": []
    },
    {
      "cell_type": "code",
      "source": [
        "x_train, x_test, y_train, y_test = train_test_split(X,y,test_size=0.33, random_state=42)"
      ],
      "metadata": {
        "id": "_riC7tHo4z7M"
      },
      "execution_count": null,
      "outputs": []
    },
    {
      "cell_type": "code",
      "source": [
        "import sklearn.metrics as metrics"
      ],
      "metadata": {
        "id": "nI0A0hnU8skC"
      },
      "execution_count": null,
      "outputs": []
    },
    {
      "cell_type": "code",
      "source": [
        "# Random Forest Model\n",
        "from sklearn.ensemble import RandomForestClassifier\n",
        "rf = RandomForestClassifier(n_estimators=100,max_features='sqrt')\n",
        "rf.fit(x_train,y_train)\n",
        "y_pred_rf = rf.predict(x_test)\n",
        "\n",
        "\n",
        "score = metrics.accuracy_score(y_test, y_pred_rf)\n",
        "print(\"accuracy:   %0.3f\" % score)\n",
        "\n",
        "#XGboost\n",
        "xgb_c = xgb.XGBClassifier(n_estimators= 100)\n",
        "xgb_c.fit(x_train,y_train)\n",
        "y_pred_x = xgb_c.predict(x_test)\n",
        "\n",
        "\n",
        "\n",
        "score = metrics.accuracy_score(y_test, y_pred_x)\n",
        "print(\"accuracy:   %0.3f\" % score)\n",
        "\n",
        "# Light GBM Classifier\n",
        "lgb = LGBMClassifier(objective='multiclass',boosting_type= 'gbdt',n_jobs = 4, \n",
        "          silent = True, random_state=4)\n",
        "LGB_C = lgb.fit(x_train, y_train)\n",
        "\n",
        "\n",
        "y_pred_lgb = LGB_C.predict(x_test)\n",
        "\n",
        "\n",
        "score = metrics.accuracy_score(y_test, y_pred_lgb)\n",
        "print(\"accuracy:   %0.3f\" % score)"
      ],
      "metadata": {
        "colab": {
          "base_uri": "https://localhost:8080/"
        },
        "id": "UAIALJS65KxN",
        "outputId": "8118e38a-cef7-4f7f-8974-cd9bd28378ce"
      },
      "execution_count": null,
      "outputs": [
        {
          "output_type": "stream",
          "name": "stdout",
          "text": [
            "accuracy:   0.966\n",
            "accuracy:   0.962\n"
          ]
        },
        {
          "output_type": "stream",
          "name": "stderr",
          "text": [
            "/usr/local/lib/python3.10/dist-packages/lightgbm/sklearn.py:598: UserWarning: 'silent' argument is deprecated and will be removed in a future release of LightGBM. Pass 'verbose' parameter via keyword arguments instead.\n",
            "  _log_warning(\"'silent' argument is deprecated and will be removed in a future release of LightGBM. \"\n"
          ]
        },
        {
          "output_type": "stream",
          "name": "stdout",
          "text": [
            "accuracy:   0.960\n"
          ]
        }
      ]
    },
    {
      "cell_type": "code",
      "source": [
        "def main(url):\n",
        "    \n",
        "    status = []\n",
        "    \n",
        "    status.append(having_ip_address(url))\n",
        "    status.append(abnormal_url(url))\n",
        "    status.append(count_dot(url))\n",
        "    status.append(count_www(url))\n",
        "    status.append(count_atrate(url))\n",
        "    status.append(no_of_dir(url))\n",
        "    status.append(no_of_embed(url))\n",
        "    \n",
        "    status.append(shortening_service(url))\n",
        "    status.append(count_https(url))\n",
        "    status.append(count_http(url))\n",
        "    \n",
        "    status.append(count_per(url))\n",
        "    status.append(count_ques(url))\n",
        "    status.append(count_hyphen(url))\n",
        "    status.append(count_equal(url))\n",
        "    \n",
        "    status.append(url_length(url))\n",
        "    status.append(hostname_length(url))\n",
        "    status.append(suspicious_words(url))\n",
        "    status.append(digit_count(url))\n",
        "    status.append(letter_count(url))\n",
        "    status.append(fd_length(url))\n",
        "    tld = get_tld(url,fail_silently=True)\n",
        "      \n",
        "    status.append(tld_length(tld))\n",
        "    \n",
        "    return status\n",
        "\n",
        "# predict function \n",
        "def get_prediction_from_url(test_url):\n",
        "    features_test = main(test_url)\n",
        "    # Due to updates to scikit-learn, we now need a 2D array as a parameter to the predict function.\n",
        "    features_test = np.array(features_test).reshape((1, -1))\n",
        "    pred = lgb.predict(features_test)\n",
        "    if int(pred[0]) == 0:\n",
        "        \n",
        "        res=\"SAFE\"\n",
        "        return res\n",
        "    elif int(pred[0]) == 1.0:\n",
        "        \n",
        "        res=\"DEFACEMENT\"\n",
        "        return res\n",
        "    elif int(pred[0]) == 2.0:\n",
        "        res=\"PHISHING\"\n",
        "        return res\n",
        "        \n",
        "    elif int(pred[0]) == 3.0:\n",
        "        \n",
        "        res=\"MALWARE\"\n",
        "        return res\n",
        "\n",
        "\n",
        "# predicting sample raw URLs\n",
        "\n",
        "urls = ['www.onlinesbi.sbi/']\n",
        "\n",
        "for url in urls:\n",
        "     print(get_prediction_from_url(url))"
      ],
      "metadata": {
        "colab": {
          "base_uri": "https://localhost:8080/"
        },
        "id": "nwMPnVZ3BZr3",
        "outputId": "14b2d429-f223-4bd6-cd16-6117bec7a68f"
      },
      "execution_count": null,
      "outputs": [
        {
          "output_type": "stream",
          "name": "stdout",
          "text": [
            "SAFE\n"
          ]
        }
      ]
    }
  ]
}